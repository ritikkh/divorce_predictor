{
 "cells": [
  {
   "cell_type": "code",
   "execution_count": 1,
   "metadata": {},
   "outputs": [],
   "source": [
    "import pandas as pd\n",
    "import numpy as np\n",
    "import matplotlib.pyplot as plt\n",
    "import sklearn as sk\n",
    "from sklearn.utils import shuffle\n",
    "from sklearn.model_selection import train_test_split\n",
    "from sklearn.linear_model import LogisticRegression\n",
    "from sklearn.metrics import confusion_matrix\n",
    "import pickle"
   ]
  },
  {
   "cell_type": "code",
   "execution_count": 2,
   "metadata": {},
   "outputs": [],
   "source": [
    "dataset = pd.read_excel('./divorce.xlsx')"
   ]
  },
  {
   "cell_type": "code",
   "execution_count": 3,
   "metadata": {},
   "outputs": [],
   "source": [
    "X = dataset.iloc[:,:-1].values / 4.0\n",
    "Y = dataset.iloc[:,-1].values"
   ]
  },
  {
   "cell_type": "code",
   "execution_count": 4,
   "metadata": {},
   "outputs": [],
   "source": [
    "X_train, X_test, Y_train, Y_test = train_test_split(X, Y,test_size = 0.1)"
   ]
  },
  {
   "cell_type": "code",
   "execution_count": 5,
   "metadata": {},
   "outputs": [],
   "source": [
    "classifier = LogisticRegression(solver='lbfgs')"
   ]
  },
  {
   "cell_type": "code",
   "execution_count": 6,
   "metadata": {},
   "outputs": [
    {
     "data": {
      "text/plain": [
       "LogisticRegression(C=1.0, class_weight=None, dual=False, fit_intercept=True,\n",
       "                   intercept_scaling=1, l1_ratio=None, max_iter=100,\n",
       "                   multi_class='warn', n_jobs=None, penalty='l2',\n",
       "                   random_state=None, solver='lbfgs', tol=0.0001, verbose=0,\n",
       "                   warm_start=False)"
      ]
     },
     "execution_count": 6,
     "metadata": {},
     "output_type": "execute_result"
    }
   ],
   "source": [
    "classifier.fit(X_train, Y_train)"
   ]
  },
  {
   "cell_type": "code",
   "execution_count": 7,
   "metadata": {},
   "outputs": [],
   "source": [
    "Y_prediction = classifier.predict(X_test)"
   ]
  },
  {
   "cell_type": "code",
   "execution_count": 8,
   "metadata": {},
   "outputs": [
    {
     "data": {
      "text/plain": [
       "array([0, 1, 0, 0, 0, 0, 1, 0, 0, 0, 0, 1, 0, 1, 1, 0, 1], dtype=int64)"
      ]
     },
     "execution_count": 8,
     "metadata": {},
     "output_type": "execute_result"
    }
   ],
   "source": [
    "Y_prediction"
   ]
  },
  {
   "cell_type": "code",
   "execution_count": 9,
   "metadata": {},
   "outputs": [
    {
     "data": {
      "text/plain": [
       "array([0, 1, 0, 0, 0, 0, 1, 0, 0, 0, 0, 1, 0, 1, 1, 0, 1], dtype=int64)"
      ]
     },
     "execution_count": 9,
     "metadata": {},
     "output_type": "execute_result"
    }
   ],
   "source": [
    "Y_test"
   ]
  },
  {
   "cell_type": "code",
   "execution_count": 10,
   "metadata": {},
   "outputs": [
    {
     "data": {
      "text/plain": [
       "0.9803921568627451"
      ]
     },
     "execution_count": 10,
     "metadata": {},
     "output_type": "execute_result"
    }
   ],
   "source": [
    "classifier.score(X_train, Y_train)"
   ]
  },
  {
   "cell_type": "code",
   "execution_count": 11,
   "metadata": {},
   "outputs": [
    {
     "data": {
      "text/plain": [
       "1.0"
      ]
     },
     "execution_count": 11,
     "metadata": {},
     "output_type": "execute_result"
    }
   ],
   "source": [
    "classifier.score(X_test, Y_test)"
   ]
  },
  {
   "cell_type": "code",
   "execution_count": 12,
   "metadata": {},
   "outputs": [
    {
     "name": "stdout",
     "output_type": "stream",
     "text": [
      "Test set results: \n",
      "probability: 0.022\tprediction: 0\treal: 0\n",
      "probability: 1.0\tprediction: 1\treal: 1\n",
      "probability: 0.031\tprediction: 0\treal: 0\n",
      "probability: 0.045\tprediction: 0\treal: 0\n",
      "probability: 0.014\tprediction: 0\treal: 0\n",
      "probability: 0.047\tprediction: 0\treal: 0\n",
      "probability: 1.0\tprediction: 1\treal: 1\n",
      "probability: 0.033\tprediction: 0\treal: 0\n",
      "probability: 0.036\tprediction: 0\treal: 0\n",
      "probability: 0.03\tprediction: 0\treal: 0\n",
      "probability: 0.049\tprediction: 0\treal: 0\n",
      "probability: 1.0\tprediction: 1\treal: 1\n",
      "probability: 0.026\tprediction: 0\treal: 0\n",
      "probability: 1.0\tprediction: 1\treal: 1\n",
      "probability: 1.0\tprediction: 1\treal: 1\n",
      "probability: 0.006\tprediction: 0\treal: 0\n",
      "probability: 1.0\tprediction: 1\treal: 1\n",
      "Prediction score: 1.0\n"
     ]
    }
   ],
   "source": [
    "print('Test set results: ')\n",
    "Y_prediction_proba = classifier.predict_proba(X_test)\n",
    "for i in range(17):\n",
    "    print(f\"probability: {round(Y_prediction_proba[i][1], 3)}\\tprediction: {Y_prediction[i]}\\treal: {Y_test[i]}\")\n",
    "print(f\"Prediction score: {classifier.score(X_test, Y_test)}\")"
   ]
  },
  {
   "cell_type": "code",
   "execution_count": 13,
   "metadata": {},
   "outputs": [
    {
     "data": {
      "text/plain": [
       "array([[ 0.45108249,  0.42319767,  0.58420285,  0.24624905,  0.24595966,\n",
       "         0.50712978,  0.05511807,  0.20903475,  0.25657284,  0.13259142,\n",
       "         0.39195488,  0.28254399, -0.02218604,  0.38401127,  0.49916152,\n",
       "         0.29478715,  0.53695084,  0.52758467,  0.42711962,  0.47143002,\n",
       "         0.17066095, -0.00178435,  0.01716318,  0.03456551,  0.25837033,\n",
       "         0.68580587,  0.22073559,  0.45439583,  0.31365272,  0.34996988,\n",
       "         0.5395662 ,  0.26744902,  0.29354868,  0.33788263,  0.13428324,\n",
       "         0.32761248,  0.18081928,  0.39059526,  0.57704369,  0.95452147,\n",
       "         0.42506077,  0.24079544,  0.21219657,  0.68544836,  0.0914232 ,\n",
       "         0.07345375,  0.05686638, -0.08125813,  0.66463504,  0.26190911,\n",
       "        -0.0083323 ,  0.39756421,  0.41743334,  0.0488967 ]])"
      ]
     },
     "execution_count": 13,
     "metadata": {},
     "output_type": "execute_result"
    }
   ],
   "source": [
    "classifier.coef_"
   ]
  },
  {
   "cell_type": "code",
   "execution_count": 14,
   "metadata": {},
   "outputs": [],
   "source": [
    "coefs = abs(classifier.coef_[0])"
   ]
  },
  {
   "cell_type": "code",
   "execution_count": 15,
   "metadata": {},
   "outputs": [
    {
     "name": "stdout",
     "output_type": "stream",
     "text": [
      "[21 50 22 12 23 53  6 46 45 47 44  9 34 20 36  7 42 26 41  4  3  8 24 49]\n"
     ]
    }
   ],
   "source": [
    "questions_to_remove = coefs.argsort()[:24]\n",
    "print(questions_to_remove)"
   ]
  },
  {
   "cell_type": "code",
   "execution_count": 16,
   "metadata": {},
   "outputs": [],
   "source": [
    "dataset2 = dataset.copy()\n",
    "for question in questions_to_remove:\n",
    "    dataset2 = dataset2.drop(f\"Atr{question + 1}\", axis=1)"
   ]
  },
  {
   "cell_type": "code",
   "execution_count": 17,
   "metadata": {},
   "outputs": [],
   "source": [
    "X2 = dataset2.iloc[:,:-1].values / 4.0\n",
    "Y2 = dataset2.iloc[:,-1].values"
   ]
  },
  {
   "cell_type": "code",
   "execution_count": 21,
   "metadata": {},
   "outputs": [],
   "source": [
    "X2_train, X2_test, Y2_train, Y2_test = train_test_split(X2, Y2, test_size=0.1)"
   ]
  },
  {
   "cell_type": "code",
   "execution_count": 22,
   "metadata": {},
   "outputs": [
    {
     "data": {
      "text/plain": [
       "(153,)"
      ]
     },
     "execution_count": 22,
     "metadata": {},
     "output_type": "execute_result"
    }
   ],
   "source": [
    "Y2_train.shape"
   ]
  },
  {
   "cell_type": "code",
   "execution_count": 23,
   "metadata": {},
   "outputs": [
    {
     "data": {
      "text/plain": [
       "LogisticRegression(C=1.0, class_weight=None, dual=False, fit_intercept=True,\n",
       "                   intercept_scaling=1, l1_ratio=None, max_iter=100,\n",
       "                   multi_class='warn', n_jobs=None, penalty='l2',\n",
       "                   random_state=None, solver='lbfgs', tol=0.0001, verbose=0,\n",
       "                   warm_start=False)"
      ]
     },
     "execution_count": 23,
     "metadata": {},
     "output_type": "execute_result"
    }
   ],
   "source": [
    "classifier2 = LogisticRegression(solver='lbfgs')\n",
    "classifier2.fit(X2_train, Y2_train)"
   ]
  },
  {
   "cell_type": "code",
   "execution_count": 25,
   "metadata": {},
   "outputs": [],
   "source": [
    "Y2_prediction = classifier2.predict(X2_test)"
   ]
  },
  {
   "cell_type": "code",
   "execution_count": 26,
   "metadata": {},
   "outputs": [
    {
     "data": {
      "text/plain": [
       "0.9803921568627451"
      ]
     },
     "execution_count": 26,
     "metadata": {},
     "output_type": "execute_result"
    }
   ],
   "source": [
    "classifier2.score(X2_train, Y2_train)"
   ]
  },
  {
   "cell_type": "code",
   "execution_count": 27,
   "metadata": {},
   "outputs": [
    {
     "data": {
      "text/plain": [
       "0.9411764705882353"
      ]
     },
     "execution_count": 27,
     "metadata": {},
     "output_type": "execute_result"
    }
   ],
   "source": [
    "classifier2.score(X2_test, Y2_test)"
   ]
  },
  {
   "cell_type": "code",
   "execution_count": 31,
   "metadata": {},
   "outputs": [
    {
     "name": "stdout",
     "output_type": "stream",
     "text": [
      "Test set results:\n",
      "probability: 0.019\tprediction: 0\treal: 0\n",
      "probability: 1.0\tprediction: 1\treal: 1\n",
      "probability: 0.024\tprediction: 0\treal: 0\n",
      "probability: 0.017\tprediction: 0\treal: 0\n",
      "probability: 0.999\tprediction: 1\treal: 1\n",
      "probability: 0.023\tprediction: 0\treal: 0\n",
      "probability: 1.0\tprediction: 1\treal: 1\n",
      "probability: 0.014\tprediction: 0\treal: 0\n",
      "probability: 0.067\tprediction: 0\treal: 0\n",
      "probability: 0.083\tprediction: 0\treal: 0\n",
      "probability: 0.999\tprediction: 1\treal: 1\n",
      "probability: 0.063\tprediction: 0\treal: 0\n",
      "probability: 0.013\tprediction: 0\treal: 0\n",
      "probability: 0.361\tprediction: 0\treal: 1\n",
      "probability: 0.014\tprediction: 0\treal: 0\n",
      "probability: 1.0\tprediction: 1\treal: 1\n",
      "probability: 0.035\tprediction: 0\treal: 0\n",
      "Prediction score: 0.9411764705882353\n"
     ]
    }
   ],
   "source": [
    "print(\"Test set results:\")\n",
    "Y2_prediction_proba = classifier2.predict_proba(X2_test)\n",
    "for i in range(17):\n",
    "    print(f\"probability: {round(Y2_prediction_proba[i][1], 3)}\\tprediction: {Y2_prediction[i]}\\treal: {Y2_test[i]}\")\n",
    "print(f\"Prediction score: {classifier2.score(X2_test, Y2_test)}\")"
   ]
  },
  {
   "cell_type": "code",
   "execution_count": 32,
   "metadata": {},
   "outputs": [
    {
     "name": "stdout",
     "output_type": "stream",
     "text": [
      "[21 50 22 12 23 53  6 46 45 47 44  9 34 20 36  7 42 26 41  4  3  8 24 49\n",
      " 31 11 32 15 28 35 33 29 13 37 10 51 52  1 40 18  0 27 19 14]\n"
     ]
    }
   ],
   "source": [
    "questions_to_remove = coefs.argsort()[:44]\n",
    "print(questions_to_remove)"
   ]
  },
  {
   "cell_type": "code",
   "execution_count": 33,
   "metadata": {},
   "outputs": [],
   "source": [
    "dataset3 = dataset.copy()\n",
    "for question in questions_to_remove:\n",
    "    dataset3 = dataset3.drop(f\"Atr{question + 1}\", axis=1)"
   ]
  },
  {
   "cell_type": "code",
   "execution_count": 34,
   "metadata": {},
   "outputs": [],
   "source": [
    "X3 = dataset3.iloc[:, :-1].values / 4.0\n",
    "Y3 = dataset3.iloc[:, -1].values\n",
    "X3_train, X3_test, Y3_train, Y3_test = train_test_split(X3, Y3, test_size=0.1)\n",
    "classifier3 = LogisticRegression(solver='lbfgs')\n",
    "classifier3.fit(X3_train, Y3_train)\n",
    "y3_prediction = classifier3.predict(X3_test)"
   ]
  },
  {
   "cell_type": "code",
   "execution_count": 35,
   "metadata": {},
   "outputs": [
    {
     "data": {
      "text/plain": [
       "0.9934640522875817"
      ]
     },
     "execution_count": 35,
     "metadata": {},
     "output_type": "execute_result"
    }
   ],
   "source": [
    "classifier3.score(X3_train, Y3_train)\n"
   ]
  },
  {
   "cell_type": "code",
   "execution_count": 36,
   "metadata": {},
   "outputs": [
    {
     "name": "stdout",
     "output_type": "stream",
     "text": [
      "Test set results:\n",
      "probability: 0.993\tprediction: 1\treal: 1\n",
      "probability: 0.044\tprediction: 0\treal: 0\n",
      "probability: 0.03\tprediction: 0\treal: 0\n",
      "probability: 0.993\tprediction: 1\treal: 1\n",
      "probability: 0.986\tprediction: 1\treal: 1\n",
      "probability: 0.997\tprediction: 1\treal: 1\n",
      "probability: 0.994\tprediction: 1\treal: 1\n",
      "probability: 0.016\tprediction: 0\treal: 0\n",
      "probability: 0.053\tprediction: 0\treal: 0\n",
      "probability: 0.96\tprediction: 1\treal: 1\n",
      "probability: 0.986\tprediction: 1\treal: 1\n",
      "probability: 0.041\tprediction: 0\treal: 0\n",
      "probability: 0.993\tprediction: 1\treal: 1\n",
      "probability: 0.986\tprediction: 1\treal: 1\n",
      "probability: 0.052\tprediction: 0\treal: 0\n",
      "probability: 0.995\tprediction: 1\treal: 1\n",
      "probability: 0.021\tprediction: 0\treal: 0\n",
      "Prediction score: 1.0\n"
     ]
    }
   ],
   "source": [
    "print(\"Test set results:\")\n",
    "y3_prediction_proba = classifier3.predict_proba(X3_test)\n",
    "for i in range(17):\n",
    "    print(f\"probability: {round(y3_prediction_proba[i][1], 3)}\\tprediction: {y3_prediction[i]}\\treal: {Y3_test[i]}\")\n",
    "print(f\"Prediction score: {classifier3.score(X3_test, Y3_test)}\")"
   ]
  },
  {
   "cell_type": "code",
   "execution_count": null,
   "metadata": {},
   "outputs": [],
   "source": []
  },
  {
   "cell_type": "code",
   "execution_count": 37,
   "metadata": {},
   "outputs": [
    {
     "data": {
      "text/html": [
       "<div>\n",
       "<style scoped>\n",
       "    .dataframe tbody tr th:only-of-type {\n",
       "        vertical-align: middle;\n",
       "    }\n",
       "\n",
       "    .dataframe tbody tr th {\n",
       "        vertical-align: top;\n",
       "    }\n",
       "\n",
       "    .dataframe thead th {\n",
       "        text-align: right;\n",
       "    }\n",
       "</style>\n",
       "<table border=\"1\" class=\"dataframe\">\n",
       "  <thead>\n",
       "    <tr style=\"text-align: right;\">\n",
       "      <th></th>\n",
       "      <th>Atr3</th>\n",
       "      <th>Atr6</th>\n",
       "      <th>Atr17</th>\n",
       "      <th>Atr18</th>\n",
       "      <th>Atr26</th>\n",
       "      <th>Atr31</th>\n",
       "      <th>Atr39</th>\n",
       "      <th>Atr40</th>\n",
       "      <th>Atr44</th>\n",
       "      <th>Atr49</th>\n",
       "      <th>Class</th>\n",
       "    </tr>\n",
       "  </thead>\n",
       "  <tbody>\n",
       "    <tr>\n",
       "      <td>0</td>\n",
       "      <td>4</td>\n",
       "      <td>0</td>\n",
       "      <td>0</td>\n",
       "      <td>0</td>\n",
       "      <td>0</td>\n",
       "      <td>1</td>\n",
       "      <td>3</td>\n",
       "      <td>3</td>\n",
       "      <td>2</td>\n",
       "      <td>3</td>\n",
       "      <td>1</td>\n",
       "    </tr>\n",
       "    <tr>\n",
       "      <td>1</td>\n",
       "      <td>4</td>\n",
       "      <td>0</td>\n",
       "      <td>4</td>\n",
       "      <td>4</td>\n",
       "      <td>1</td>\n",
       "      <td>0</td>\n",
       "      <td>2</td>\n",
       "      <td>4</td>\n",
       "      <td>4</td>\n",
       "      <td>4</td>\n",
       "      <td>1</td>\n",
       "    </tr>\n",
       "    <tr>\n",
       "      <td>2</td>\n",
       "      <td>2</td>\n",
       "      <td>3</td>\n",
       "      <td>3</td>\n",
       "      <td>3</td>\n",
       "      <td>2</td>\n",
       "      <td>3</td>\n",
       "      <td>3</td>\n",
       "      <td>3</td>\n",
       "      <td>3</td>\n",
       "      <td>1</td>\n",
       "      <td>1</td>\n",
       "    </tr>\n",
       "    <tr>\n",
       "      <td>3</td>\n",
       "      <td>3</td>\n",
       "      <td>3</td>\n",
       "      <td>3</td>\n",
       "      <td>3</td>\n",
       "      <td>1</td>\n",
       "      <td>2</td>\n",
       "      <td>4</td>\n",
       "      <td>4</td>\n",
       "      <td>2</td>\n",
       "      <td>3</td>\n",
       "      <td>1</td>\n",
       "    </tr>\n",
       "    <tr>\n",
       "      <td>4</td>\n",
       "      <td>1</td>\n",
       "      <td>1</td>\n",
       "      <td>1</td>\n",
       "      <td>1</td>\n",
       "      <td>2</td>\n",
       "      <td>1</td>\n",
       "      <td>2</td>\n",
       "      <td>1</td>\n",
       "      <td>0</td>\n",
       "      <td>3</td>\n",
       "      <td>1</td>\n",
       "    </tr>\n",
       "    <tr>\n",
       "      <td>...</td>\n",
       "      <td>...</td>\n",
       "      <td>...</td>\n",
       "      <td>...</td>\n",
       "      <td>...</td>\n",
       "      <td>...</td>\n",
       "      <td>...</td>\n",
       "      <td>...</td>\n",
       "      <td>...</td>\n",
       "      <td>...</td>\n",
       "      <td>...</td>\n",
       "      <td>...</td>\n",
       "    </tr>\n",
       "    <tr>\n",
       "      <td>165</td>\n",
       "      <td>0</td>\n",
       "      <td>0</td>\n",
       "      <td>0</td>\n",
       "      <td>0</td>\n",
       "      <td>0</td>\n",
       "      <td>4</td>\n",
       "      <td>1</td>\n",
       "      <td>0</td>\n",
       "      <td>0</td>\n",
       "      <td>1</td>\n",
       "      <td>0</td>\n",
       "    </tr>\n",
       "    <tr>\n",
       "      <td>166</td>\n",
       "      <td>0</td>\n",
       "      <td>0</td>\n",
       "      <td>0</td>\n",
       "      <td>0</td>\n",
       "      <td>0</td>\n",
       "      <td>0</td>\n",
       "      <td>1</td>\n",
       "      <td>1</td>\n",
       "      <td>1</td>\n",
       "      <td>2</td>\n",
       "      <td>0</td>\n",
       "    </tr>\n",
       "    <tr>\n",
       "      <td>167</td>\n",
       "      <td>0</td>\n",
       "      <td>0</td>\n",
       "      <td>0</td>\n",
       "      <td>0</td>\n",
       "      <td>1</td>\n",
       "      <td>1</td>\n",
       "      <td>1</td>\n",
       "      <td>2</td>\n",
       "      <td>0</td>\n",
       "      <td>0</td>\n",
       "      <td>0</td>\n",
       "    </tr>\n",
       "    <tr>\n",
       "      <td>168</td>\n",
       "      <td>0</td>\n",
       "      <td>0</td>\n",
       "      <td>0</td>\n",
       "      <td>0</td>\n",
       "      <td>0</td>\n",
       "      <td>0</td>\n",
       "      <td>4</td>\n",
       "      <td>1</td>\n",
       "      <td>0</td>\n",
       "      <td>2</td>\n",
       "      <td>0</td>\n",
       "    </tr>\n",
       "    <tr>\n",
       "      <td>169</td>\n",
       "      <td>0</td>\n",
       "      <td>0</td>\n",
       "      <td>0</td>\n",
       "      <td>0</td>\n",
       "      <td>0</td>\n",
       "      <td>1</td>\n",
       "      <td>0</td>\n",
       "      <td>0</td>\n",
       "      <td>0</td>\n",
       "      <td>0</td>\n",
       "      <td>0</td>\n",
       "    </tr>\n",
       "  </tbody>\n",
       "</table>\n",
       "<p>170 rows × 11 columns</p>\n",
       "</div>"
      ],
      "text/plain": [
       "     Atr3  Atr6  Atr17  Atr18  Atr26  Atr31  Atr39  Atr40  Atr44  Atr49  Class\n",
       "0       4     0      0      0      0      1      3      3      2      3      1\n",
       "1       4     0      4      4      1      0      2      4      4      4      1\n",
       "2       2     3      3      3      2      3      3      3      3      1      1\n",
       "3       3     3      3      3      1      2      4      4      2      3      1\n",
       "4       1     1      1      1      2      1      2      1      0      3      1\n",
       "..    ...   ...    ...    ...    ...    ...    ...    ...    ...    ...    ...\n",
       "165     0     0      0      0      0      4      1      0      0      1      0\n",
       "166     0     0      0      0      0      0      1      1      1      2      0\n",
       "167     0     0      0      0      1      1      1      2      0      0      0\n",
       "168     0     0      0      0      0      0      4      1      0      2      0\n",
       "169     0     0      0      0      0      1      0      0      0      0      0\n",
       "\n",
       "[170 rows x 11 columns]"
      ]
     },
     "execution_count": 37,
     "metadata": {},
     "output_type": "execute_result"
    }
   ],
   "source": [
    "dataset3"
   ]
  },
  {
   "cell_type": "code",
   "execution_count": null,
   "metadata": {},
   "outputs": [],
   "source": []
  }
 ],
 "metadata": {
  "kernelspec": {
   "display_name": "Python 3",
   "language": "python",
   "name": "python3"
  },
  "language_info": {
   "codemirror_mode": {
    "name": "ipython",
    "version": 3
   },
   "file_extension": ".py",
   "mimetype": "text/x-python",
   "name": "python",
   "nbconvert_exporter": "python",
   "pygments_lexer": "ipython3",
   "version": "3.7.4"
  }
 },
 "nbformat": 4,
 "nbformat_minor": 2
}
